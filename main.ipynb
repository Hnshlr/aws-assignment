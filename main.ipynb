{
 "cells": [
  {
   "cell_type": "markdown",
   "metadata": {
    "pycharm": {
     "name": "#%% md\n"
    }
   },
   "source": [
    "# Cloud Computing Assignment 2022-2023\n",
    "Implementation of an application processing large data sets in parallel on a distributed Cloud environment (ie. AWS)\n",
    "\n",
    "© Copyright 2022, All rights reserved to Hans Haller, CSTE-CIDA Student at Cranfield Uni. SATM, Cranfield, UK.\n",
    "\n",
    "https://www.github.com/Hnshlr"
   ]
  },
  {
   "cell_type": "markdown",
   "metadata": {
    "pycharm": {
     "name": "#%% md\n"
    }
   },
   "source": [
    "### Solution setup - Pre-requisites:\n",
    "1. Make sure the aws credentials taken from the Learner Lab are updated in the ~/.aws/credentials file (Test connection locally using aws sts get-caller-identity)\n",
    "2. Specify the \"labsuser.pem\" perm-key's (taken from the Learner Lab) path, needed by paramiko to connect to the EC2 instances and execute ssh commands.\n",
    "### Solution setup steps (Using the environment setup function):\n",
    "1. Create a cluster of EC2 instances on AWS, using the AWS Linux 2 images.\n",
    "2. Create a S3 bucket to store the data.\n",
    "3. Create a SQS queue to store stacks of messages."
   ]
  },
  {
   "cell_type": "markdown",
   "metadata": {
    "pycharm": {
     "name": "#%% md\n"
    }
   },
   "source": [
    "### IMPORTS:\n",
    "\n",
    "The following controllers defines functions that use boto3 packaged functions to make AWS API calls. By importing the controllers, a Boto3 resource is automatically created for each AWS service that is needd for the solution (EC2, SQS, SSM, S3, etc) in order for these functions to work.\n",
    "\n",
    "The Boto3 resources uses the AWS credentials that are located in the .aws local folder of the user who executes this software.\n",
    "\n",
    "As a result, it is important that they are updated before running the following. Thus please make sure to restart the kernel and re-execute the imports if the credentials expired (ie. the Learner Lab session ended)."
   ]
  },
  {
   "cell_type": "code",
   "execution_count": null,
   "metadata": {
    "pycharm": {
     "name": "#%%\n"
    }
   },
   "outputs": [],
   "source": [
    "# CONTROLLERS=\n",
    "from backend.controllers.boto3_controller import *\n",
    "from backend.controllers.ec2_controller import *\n",
    "from backend.controllers.matrix_controller import *\n",
    "from backend.controllers.s3_controller import *\n",
    "from backend.controllers.spark_controller import *\n",
    "from backend.controllers.sqs_controller import *\n",
    "from backend.controllers.ssm_controller import *\n",
    "from backend.controllers.app_controller import *\n",
    "\n",
    "# SERVICES=\n",
    "from backend.work_service import *\n",
    "from backend.app_service import *"
   ]
  },
  {
   "cell_type": "markdown",
   "metadata": {
    "pycharm": {
     "name": "#%% md\n"
    }
   },
   "source": []
  },
  {
   "cell_type": "markdown",
   "metadata": {
    "pycharm": {
     "name": "#%% md\n"
    }
   },
   "source": [
    "## AWS - SOLUTION SETUP AND TASKS EXECUTION:"
   ]
  },
  {
   "cell_type": "code",
   "execution_count": null,
   "metadata": {
    "pycharm": {
     "name": "#%%\n"
    }
   },
   "outputs": [],
   "source": [
    "# SETTINGS=             [IMPORTANT: Update the following settings before running my the solution]\n",
    "worker_amount = 8\n",
    "backend_path = os.path.join(os.getcwd(), 'backend')\n",
    "username = 'hans'\n",
    "aws_credentials_path = os.path.join('C:', os.sep, 'Users', username, '.aws', 'credentials')\n",
    "\n",
    "# NAMES=\n",
    "instances_names = np.concatenate((np.array(['master']), np.array(['worker' + str(i) for i in range(1, worker_amount+1)]))).tolist()\n",
    "queues_names = ['main-protected-jobs.fifo', 'main-protected-results.fifo']\n",
    "bucket_names = ['main-protected-bucket', 'main-protected-ssm-outputs']"
   ]
  },
  {
   "cell_type": "markdown",
   "metadata": {
    "pycharm": {
     "name": "#%% md\n"
    }
   },
   "source": []
  },
  {
   "cell_type": "markdown",
   "metadata": {
    "pycharm": {
     "name": "#%% md\n"
    }
   },
   "source": [
    "### ENVIRONMENT SETUP:"
   ]
  },
  {
   "cell_type": "code",
   "execution_count": null,
   "metadata": {
    "pycharm": {
     "name": "#%%\n"
    }
   },
   "outputs": [],
   "source": [
    "# START TIMER:\n",
    "print('Beginning AWS environment setup. Starting timer...')\n",
    "envsetup_timer = time.time()\n",
    "\n",
    "# SQS QUEUES:\n",
    "create_sqs_queues(queues_names)\n",
    "# S3 BUCKET:\n",
    "create_s3_buckets(bucket_names)\n",
    "# EC2 INSTANCES:\n",
    "create_instances_and_wait_for_running(instances_names)\n",
    "\n",
    "# SEND BACKEND FOLDER -> S3 BUCKET -> EC2 INSTANCES:\n",
    "upload_dir_to_s3(backend_path, bucket_names[0], 'backend')\n",
    "\n",
    "# INSTALL PACKAGES ON EC2 INSTANCES (SEND COMMANDS & RUNS IN THE BACKGROUND)\n",
    "instances_ids = get_instance_ids_by_names(instances_names)\n",
    "commands = [\n",
    "    'aws s3 sync s3://' + bucket_names[0] + '/backend /home/ec2-user/backend',\n",
    "    'cd /home/ec2-user/backend && sudo mkdir data && cd data && sudo mkdir input && sudo mkdir output && cd output && sudo mkdir mx && sudo mkdir add',\n",
    "    'sudo yum install tree -y',\n",
    "    'pip3 install boto3',\n",
    "    'pip3 install numpy',\n",
    "    'pip3 install pandas'\n",
    "]\n",
    "responses = exec_SSHs_on_instances_using_SSM(instances_ids, commands)\n",
    "\n",
    "# STOP TIMER:\n",
    "print('Environment setup took: ' + str(np.round(time.time() - envsetup_timer, 2)) + ' seconds.')"
   ]
  },
  {
   "cell_type": "code",
   "execution_count": null,
   "metadata": {
    "pycharm": {
     "is_executing": true,
     "name": "#%%\n"
    }
   },
   "outputs": [],
   "source": [
    "# UPDATE BACKEND FOLDER ON S3, AND EC2 INSTANCES:\n",
    "instances_ids = get_instance_ids_by_names(instances_names)\n",
    "purge_s3_bucket(bucket_names[0])\n",
    "upload_dir_to_s3(backend_path, bucket_names[0], 'backend')\n",
    "exec_SSHs_on_instances_using_SSM(instances_ids, [\n",
    "    'rm -rf /home/ec2-user/backend',\n",
    "    'aws s3 sync s3://' + bucket_names[0] + '/backend /home/ec2-user/backend',\n",
    "    'cd /home/ec2-user/backend && sudo mkdir data && cd data && sudo mkdir input && sudo mkdir output && cd output && sudo mkdir mx && sudo mkdir add'])"
   ]
  },
  {
   "cell_type": "markdown",
   "metadata": {
    "pycharm": {
     "name": "#%% md\n"
    }
   },
   "source": []
  },
  {
   "cell_type": "markdown",
   "metadata": {
    "pycharm": {
     "name": "#%% md\n"
    }
   },
   "source": [
    "### SOLUTION EXECUTION:"
   ]
  },
  {
   "cell_type": "code",
   "execution_count": null,
   "metadata": {
    "pycharm": {
     "is_executing": true,
     "name": "#%%\n"
    }
   },
   "outputs": [],
   "source": [
    "# RECOMMENDED PRE-REQUISITES:\n",
    "stop_all_instances_and_wait_for_stopped()\n",
    "start_all_instances_and_wait_for_running()"
   ]
  },
  {
   "cell_type": "code",
   "execution_count": null,
   "metadata": {
    "pycharm": {
     "name": "#%%\n"
    }
   },
   "outputs": [],
   "source": [
    "# PREFERENCES=\n",
    "matrix_shape = 1000\n",
    "used_workers = 8\n",
    "\n",
    "# START JOB TIMER:\n",
    "sol_timer = time.time()\n",
    "\n",
    "# WORKERS'S LOOP: READY UP THE WORKERS, HAVING THEM WAIT FOR JOBS:\n",
    "command = 'cd /home/ec2-user && sudo python3 backend/work_service.py worker ' + queues_names[0] + ' ' + queues_names[1]\n",
    "work_resp = exec_SSHs_on_instances_using_SSM(get_instance_ids_by_names(instances_names)[1:min(used_workers, worker_amount)+1], [command], bucket_names[1])\n",
    "\n",
    "# MASTER'S LOOP: CREATE A MATRIX, SPLIT IT INTO SLICES, AND SEND THE SLICES TO THE JOBS QUEUE:\n",
    "command = 'cd /home/ec2-user && sudo python3 backend/work_service.py master ' + str(matrix_shape) + ' ' + queues_names[0] + ' ' + queues_names[1] + ' ' + bucket_names[0]\n",
    "stdout, stderr = exec_SSH_on_instance(instances_names[0], command)\n",
    "outprint(stdout, stderr)\n",
    "# print(command)\n",
    "\n",
    "# STOP THE WORKERS LOOPS:\n",
    "stop_SSHs_on_instances_using_SSM(get_instance_ids_by_names(instances_names)[1:min(used_workers, worker_amount)+1], work_resp['Command']['CommandId'])\n",
    "\n",
    "# STOP THE TIMER:\n",
    "print('The computation took: ' + str(np.round(time.time() - sol_timer, 2)) + ' seconds.')"
   ]
  },
  {
   "cell_type": "markdown",
   "metadata": {
    "pycharm": {
     "name": "#%% md\n"
    }
   },
   "source": []
  },
  {
   "cell_type": "markdown",
   "metadata": {
    "pycharm": {
     "name": "#%% md\n"
    }
   },
   "source": [
    "### VERIFY:"
   ]
  },
  {
   "cell_type": "code",
   "execution_count": null,
   "metadata": {
    "pycharm": {
     "name": "#%%\n"
    }
   },
   "outputs": [],
   "source": [
    "# SETTINGS=\n",
    "op_ids = view_all_s3_buckets_filenames(bucket_names[0], 'backend/data/output/mx/')\n",
    "op_type = 'mx'\n",
    "\n",
    "# VERIFY A COMPUTATION (RUN THE COMPARISON ONLINE USING AN INSTANCE):\n",
    "verify_multiple_jobs(bucket_names[0], instances_names[0], op_ids, op_type)"
   ]
  },
  {
   "cell_type": "markdown",
   "metadata": {
    "pycharm": {
     "name": "#%% md\n"
    }
   },
   "source": []
  },
  {
   "cell_type": "markdown",
   "metadata": {
    "pycharm": {
     "name": "#%% md\n"
    }
   },
   "source": [
    "### CLEAN UP:"
   ]
  },
  {
   "cell_type": "code",
   "execution_count": null,
   "metadata": {
    "pycharm": {
     "name": "#%%\n"
    }
   },
   "outputs": [],
   "source": [
    "kill_all()"
   ]
  },
  {
   "cell_type": "code",
   "execution_count": null,
   "metadata": {
    "pycharm": {
     "name": "#%%\n"
    }
   },
   "outputs": [],
   "source": []
  }
 ],
 "metadata": {
  "kernelspec": {
   "display_name": "Python 3 (ipykernel)",
   "language": "python",
   "name": "python3"
  },
  "language_info": {
   "codemirror_mode": {
    "name": "ipython",
    "version": 3
   },
   "file_extension": ".py",
   "mimetype": "text/x-python",
   "name": "python",
   "nbconvert_exporter": "python",
   "pygments_lexer": "ipython3",
   "version": "3.10.8"
  }
 },
 "nbformat": 4,
 "nbformat_minor": 1
}
