{
 "cells": [
  {
   "cell_type": "markdown",
   "metadata": {
    "collapsed": false,
    "pycharm": {
     "name": "#%% md\n"
    }
   },
   "source": [
    "# Cloud Computing Assignment 2022-2023\n",
    "Implementation of an application processing large data sets in parallel on a distributed Cloud environment (ie. AWS)"
   ]
  },
  {
   "cell_type": "markdown",
   "metadata": {
    "collapsed": false,
    "pycharm": {
     "name": "#%% md\n"
    }
   },
   "source": [
    "### Solution setup - Pre-requisites:\n",
    "1. Make sure the aws credentials taken from the Learner Lab are updated in the ~/.aws/credentials file (Test connection locally using aws sts get-caller-identity)\n",
    "2. Specify the \"labsuser.pem\" perm-key's (taken from the Learner Lab) path, needed by paramiko to connect to the EC2 instances and execute ssh commands.\n",
    "3. Create EC2, S3 and SQS resources and clients using boto3.\n",
    "### Solution setup steps (Using Boto3):\n",
    "1. Create a cluster of EC2 instances on AWS, using the AWS Linux 2 images.\n",
    "2. Create a S3 bucket to store the data.\n",
    "3. Create a SQS queue to store stacks of messages."
   ]
  },
  {
   "cell_type": "markdown",
   "metadata": {
    "collapsed": false,
    "pycharm": {
     "name": "#%% md\n"
    }
   },
   "source": [
    "### IMPORTS:"
   ]
  },
  {
   "cell_type": "code",
   "execution_count": null,
   "metadata": {
    "pycharm": {
     "name": "#%%\n"
    }
   },
   "outputs": [],
   "source": [
    "import boto3\n",
    "import numpy as np\n",
    "import time\n",
    "import paramiko"
   ]
  },
  {
   "cell_type": "code",
   "execution_count": null,
   "metadata": {
    "pycharm": {
     "name": "#%%\n"
    }
   },
   "outputs": [],
   "source": []
  },
  {
   "cell_type": "markdown",
   "metadata": {
    "collapsed": false,
    "pycharm": {
     "name": "#%% md\n"
    }
   },
   "source": [
    "### CONFIGURATION:"
   ]
  },
  {
   "cell_type": "code",
   "execution_count": null,
   "metadata": {
    "pycharm": {
     "name": "#%%\n"
    }
   },
   "outputs": [],
   "source": [
    "# Permission key:\n",
    "pem_key = 'learner-lab-cfg/labsuser.pem'\n",
    "# Create an EC2 resource (higher level abstraction than a client):\n",
    "ec2 = boto3.resource('ec2')\n",
    "ec2_client = boto3.client('ec2')\n",
    "# Create a S3 resource:\n",
    "s3 = boto3.resource('s3')\n",
    "s3_client = boto3.client('s3')\n",
    "# Create a SQS resource:\n",
    "sqs = boto3.resource('sqs')\n",
    "sqs_client = boto3.client('sqs')"
   ]
  },
  {
   "cell_type": "code",
   "execution_count": null,
   "metadata": {
    "pycharm": {
     "name": "#%%\n"
    }
   },
   "outputs": [],
   "source": []
  },
  {
   "cell_type": "markdown",
   "metadata": {
    "collapsed": false,
    "pycharm": {
     "name": "#%% md\n"
    }
   },
   "source": []
  },
  {
   "cell_type": "markdown",
   "metadata": {
    "collapsed": false,
    "pycharm": {
     "name": "#%% md\n"
    }
   },
   "source": [
    "### BOTO 3 - APP INTERFACE"
   ]
  },
  {
   "cell_type": "code",
   "execution_count": null,
   "metadata": {
    "pycharm": {
     "name": "#%%\n"
    }
   },
   "outputs": [],
   "source": [
    "# Get boto3 session credentials, successfully authenticated using updated local credentials:\n",
    "def get_boto3_session_credentials():\n",
    "    session = boto3.session.Session()\n",
    "    credentials = session.get_credentials()\n",
    "    return credentials"
   ]
  },
  {
   "cell_type": "code",
   "execution_count": null,
   "metadata": {
    "pycharm": {
     "name": "#%%\n"
    }
   },
   "outputs": [],
   "source": []
  },
  {
   "cell_type": "markdown",
   "metadata": {
    "collapsed": false,
    "pycharm": {
     "name": "#%% md\n"
    }
   },
   "source": []
  },
  {
   "cell_type": "markdown",
   "metadata": {
    "collapsed": false,
    "pycharm": {
     "name": "#%% md\n"
    }
   },
   "source": [
    "### SQS - APP INTERFACE"
   ]
  },
  {
   "cell_type": "code",
   "execution_count": null,
   "metadata": {
    "pycharm": {
     "name": "#%%\n"
    }
   },
   "outputs": [],
   "source": [
    "# CREATE SQS QUEUE:\n",
    "def create_sqs_queue(queue_name):\n",
    "    try:\n",
    "        queue = sqs.create_queue(\n",
    "            QueueName=queue_name,\n",
    "            Attributes={\n",
    "                'FifoQueue': 'true',\n",
    "                'MessageRetentionPeriod': '86400'\n",
    "            }\n",
    "        )\n",
    "        return queue\n",
    "    except Exception as e:\n",
    "        print(e)\n",
    "        return None\n",
    "\n",
    "# DELETE SQS QUEUE:\n",
    "def delete_sqs_queue(queue_name):\n",
    "    try:\n",
    "        queue = sqs.get_queue_by_name(QueueName=queue_name)\n",
    "        queue.delete()\n",
    "        return True\n",
    "    except Exception as e:\n",
    "        print(e)\n",
    "        return False\n",
    "\n",
    "# SEND MESSAGE TO SQS QUEUE:\n",
    "def send_message_to_sqs_queue(queue_name, message_body, message_group_id, message_deduplication_id):\n",
    "    try:\n",
    "        queue = sqs.get_queue_by_name(QueueName=queue_name)\n",
    "        response = queue.send_message(\n",
    "            MessageBody=message_body,\n",
    "            MessageGroupId=message_group_id,\n",
    "            MessageDeduplicationId=message_deduplication_id\n",
    "        )\n",
    "        return response\n",
    "    except Exception as e:\n",
    "        print(e)\n",
    "        return None\n",
    "\n",
    "# GET ALL MESSAGES FROM SQS QUEUE:\n",
    "def get_all_messages_from_sqs_queue(queue_name):\n",
    "    try:\n",
    "        queue = sqs.get_queue_by_name(QueueName=queue_name)\n",
    "        messages = queue.receive_messages()\n",
    "        return messages\n",
    "    except Exception as e:\n",
    "        print(e)\n",
    "        return None\n",
    "\n",
    "# DELETE ALL MESSAGES FROM SQS QUEUE:\n",
    "def delete_all_messages_from_sqs_queue(queue_name):\n",
    "    try:\n",
    "        queue = sqs.get_queue_by_name(QueueName=queue_name)\n",
    "        messages = queue.receive_messages()\n",
    "        for message in messages:\n",
    "            message.delete()\n",
    "        return True\n",
    "    except Exception as e:\n",
    "        print(e)\n",
    "        return False"
   ]
  },
  {
   "cell_type": "code",
   "execution_count": null,
   "metadata": {
    "pycharm": {
     "name": "#%%\n"
    }
   },
   "outputs": [],
   "source": [
    "# create_sqs_queue('main-protected-queue.fifo')\n",
    "# send_message_to_sqs_queue('main-protected-queue.fifo', 'Hello World!', '1', '1')\n",
    "# get_all_messages_from_sqs_queue('main-protected-queue.fifo')\n",
    "# delete_all_messages_from_sqs_queue('main-protected-queue.fifo')"
   ]
  },
  {
   "cell_type": "markdown",
   "metadata": {
    "collapsed": false,
    "pycharm": {
     "name": "#%% md\n"
    }
   },
   "source": []
  },
  {
   "cell_type": "markdown",
   "metadata": {
    "collapsed": false,
    "pycharm": {
     "name": "#%% md\n"
    }
   },
   "source": [
    "### S3 - APP INTERFACE"
   ]
  },
  {
   "cell_type": "code",
   "execution_count": null,
   "metadata": {
    "pycharm": {
     "name": "#%%\n"
    }
   },
   "outputs": [],
   "source": [
    "# CREATE S3 BUCKET:\n",
    "def create_s3_bucket(bucket_name):\n",
    "    try:\n",
    "        s3.create_bucket(\n",
    "            Bucket=bucket_name,\n",
    "            ObjectOwnership='BucketOwnerPreferred'\n",
    "        )\n",
    "    except Exception as e:\n",
    "        print(e)\n",
    "    return s3.Bucket(bucket_name)\n",
    "\n",
    "# DELETE S3 BUCKET:\n",
    "def delete_s3_bucket(bucket_name):\n",
    "    try:\n",
    "        bucket = s3.Bucket(bucket_name)\n",
    "        bucket.objects.all().delete()\n",
    "        bucket.delete()\n",
    "    except Exception as e:\n",
    "        print(e)\n",
    "\n",
    "# PRINT S3 BUCKET DETAILS:\n",
    "def print_s3_bucket_details(bucket):\n",
    "    print(\"{name=%s, creation_date=%s}\" % (bucket.name, bucket.creation_date))\n",
    "\n",
    "# VIEW ALL S3 BUCKETS:\n",
    "def view_all_s3_buckets():\n",
    "    for bucket in s3.buckets.all():\n",
    "        print_s3_bucket_details(bucket)\n",
    "\n",
    "# UPLOAD LOCAL FILE TO S3 BUCKET:\n",
    "def upload_local_file_to_s3(filename, bucketname, destination_path):\n",
    "    s3.Bucket(bucketname).upload_file(filename, destination_path+filename)\n",
    "\n",
    "# DELETE FILE FROM S3 BUCKET:\n",
    "def delete_file_from_s3(filename, bucketname, path):\n",
    "    s3.Bucket(bucketname).Object(path+filename).delete()\n",
    "\n",
    "# DELETE DIRECTORY FROM S3 BUCKET:\n",
    "def delete_directory_from_s3_bucket(bucket_name, directory_name):\n",
    "    s3 = boto3.resource('s3')\n",
    "    bucket = s3.Bucket(bucket_name)\n",
    "    bucket.objects.filter(Prefix=directory_name).delete()"
   ]
  },
  {
   "cell_type": "code",
   "execution_count": null,
   "metadata": {
    "pycharm": {
     "name": "#%%\n"
    }
   },
   "outputs": [],
   "source": []
  },
  {
   "cell_type": "markdown",
   "metadata": {
    "collapsed": false,
    "pycharm": {
     "name": "#%% md\n"
    }
   },
   "source": []
  },
  {
   "cell_type": "markdown",
   "metadata": {
    "collapsed": false,
    "pycharm": {
     "name": "#%% md\n"
    }
   },
   "source": [
    "### EC2 - APP INTERFACE"
   ]
  },
  {
   "cell_type": "code",
   "execution_count": null,
   "metadata": {
    "pycharm": {
     "name": "#%%\n"
    }
   },
   "outputs": [],
   "source": [
    "# START ALL EC2 INSTANCES:\n",
    "def start_all_instances():\n",
    "    # Start all instances:\n",
    "    for instance in ec2.instances.filter(Filters=[{'Name': 'instance-state-name', 'Values': ['stopped']}]):\n",
    "        instance.start()\n",
    "        print('Starting instance: ', instance.id, instance.tags[0]['Value'])\n",
    "\n",
    "# STOP ALL EC2 INSTANCES:\n",
    "def stop_all_instances():\n",
    "    # Stop all instances:\n",
    "    for instance in ec2.instances.filter(Filters=[{'Name': 'instance-state-name', 'Values': ['running']}]):\n",
    "        instance.stop()\n",
    "        print('Stopping instance: ', instance.id, instance.tags[0]['Value'])\n",
    "\n",
    "# PRINT EC2 INSTANCE DETAILS:\n",
    "def print_instance_details(instance):\n",
    "    print(\"{id=%s, name=%s, state=%s, type=%s}\" % (instance.id, instance.tags[0]['Value'], instance.state['Name'], instance.instance_type))\n",
    "\n",
    "# VIEW ALL EC2 INSTANCES:\n",
    "def view_all_instances(include_terminated):\n",
    "    # Print instance ID, name, state, and type:\n",
    "    for instance in ec2.instances.all():\n",
    "        if include_terminated or instance.state['Name'] != 'terminated':\n",
    "            print_instance_details(instance)\n",
    "\n",
    "# VIEW ALL EC2 INSTANCES - BY STATE FILTER:\n",
    "def view_instances_by_state(state):\n",
    "    # Print instance ID, name, state, and type; who are running\n",
    "    for instance in ec2.instances.filter(Filters=[{'Name': 'instance-state-name', 'Values': [state]}]):\n",
    "        print_instance_details(instance)\n",
    "\n",
    "# TERMINATE ALL EC2 INSTANCES:\n",
    "def terminate_all_instances():\n",
    "    # Terminate all instances:\n",
    "    for instance in ec2.instances.all():\n",
    "        if instance.state['Name'] != 'terminated':\n",
    "            instance.terminate()\n",
    "            print('Terminated instance: ', instance.id, instance.tags[0]['Value'])\n",
    "\n",
    "# TERMINATE EC2 INSTANCE - BY NAME:\n",
    "def terminate_instance_by_name(name):\n",
    "    for instance in ec2.instances.all():\n",
    "        if instance.tags[0]['Value'] == name:\n",
    "            instance.terminate()\n",
    "            print('Terminated instance: ', instance.id, instance.tags[0]['Value'])\n",
    "\n",
    "# CREATE INSTANCE - BY NAME, USING \"amazon linux 2\" AMI, \"t2.micro\" INSTANCE TYPE, \"vockey\" KEY PAIR, AND \"default\" SECURITY GROUP:\n",
    "def create_instance(name):\n",
    "    ec2.create_instances(\n",
    "        ImageId='ami-0b0dcb5067f052a63',\n",
    "        MinCount=1,\n",
    "        MaxCount=1,\n",
    "        InstanceType='t2.micro',\n",
    "        KeyName='vockey',\n",
    "        SecurityGroupIds=['sg-0f52fa9fe5477133b'],\n",
    "        TagSpecifications=[\n",
    "            {\n",
    "                'ResourceType': 'instance',\n",
    "                'Tags': [\n",
    "                    {\n",
    "                        'Key': 'Name',\n",
    "                        'Value': name\n",
    "                    },\n",
    "                ]\n",
    "            },\n",
    "        ]\n",
    "    )\n",
    "\n",
    "# UPDATE INSTANCE AWS CREDENTIALS:\n",
    "def update_instance_credentials_using_boto3_session_credentials(instance_name):\n",
    "    exec_SSH_on_instance(instance_name, 'aws configure set aws_access_key_id '+get_boto3_session_credentials().access_key)\n",
    "    exec_SSH_on_instance(instance_name, 'aws configure set aws_secret_access_key '+get_boto3_session_credentials().secret_key)\n",
    "    exec_SSH_on_instance(instance_name, 'aws configure set aws_session_token '+get_boto3_session_credentials().token)\n",
    "    exec_SSH_on_instance(instance_name, 'aws configure set region us-east-1')\n",
    "\n",
    "# GET INSTANCE ID - BY NAME:\n",
    "def get_instance_id_by_name(name):\n",
    "    for instance in ec2.instances.all():\n",
    "        if instance.tags[0]['Value'] == name and instance.state['Name'] != 'terminated':\n",
    "            return instance.id\n",
    "\n",
    "# GET INSTANCE PUBLIC IP - BY NAME:\n",
    "def get_instance_public_dns_by_name(name):\n",
    "    for instance in ec2.instances.all():\n",
    "        if instance.tags[0]['Value'] == name:\n",
    "            return instance.public_dns_name\n",
    "\n",
    "# GET INSTANCE PUBLIC IP - BY ID:\n",
    "def get_instance_public_dns_by_id(instance_id):\n",
    "    for instance in ec2.instances.all():\n",
    "        if instance.id == instance_id:\n",
    "            return instance.public_dns_name\n",
    "\n",
    "# EXECUTE SSH COMMAND ON INSTANCE - BY NAME:\n",
    "def exec_SSH_on_instance(instance_name, command):\n",
    "    paramiko_key = paramiko.RSAKey.from_private_key_file(pem_key)\n",
    "    client = paramiko.SSHClient()\n",
    "    client.set_missing_host_key_policy(paramiko.AutoAddPolicy())\n",
    "    try:\n",
    "        client.connect(hostname=get_instance_public_dns_by_id(get_instance_id_by_name(instance_name)), username='ec2-user', pkey=paramiko_key)\n",
    "        stdin, stdout, stderr = client.exec_command(command)\n",
    "        return stdout.read(), stderr.read()\n",
    "    except Exception as e:\n",
    "        return e"
   ]
  },
  {
   "cell_type": "markdown",
   "metadata": {
    "collapsed": false,
    "pycharm": {
     "name": "#%% md\n"
    }
   },
   "source": []
  },
  {
   "cell_type": "markdown",
   "metadata": {
    "collapsed": false,
    "pycharm": {
     "name": "#%% md\n"
    }
   },
   "source": [
    "### MATRIX - FUNCTIONS"
   ]
  },
  {
   "cell_type": "code",
   "execution_count": null,
   "metadata": {
    "pycharm": {
     "name": "#%%\n"
    }
   },
   "outputs": [],
   "source": [
    "# Create a matrix of nxn size:\n",
    "def create_random_square_matrix(n):\n",
    "    return np.random.randint(0, 10, size=(n, n))\n",
    "\n",
    "# Split matrix intro n row chunks:\n",
    "def split_matrix_in_blocks(matrix, amount_of_blocks):\n",
    "    factor = np.sqrt(amount_of_blocks)\n",
    "    if not np.sqrt(amount_of_blocks).is_integer():\n",
    "        raise ValueError('ERROR: Amount of blocks must be a square number!')\n",
    "    elif matrix.shape[0] % factor != 0:\n",
    "        raise ValueError('ERROR: Matrix size must be a multiple of factor!')\n",
    "    else:\n",
    "        sub_matrices = np.empty((int(factor), int(factor)), dtype=np.ndarray)\n",
    "        pad = matrix.shape[0] / factor\n",
    "        for i in range(0, sub_matrices.shape[0]):\n",
    "            for j in range(0, sub_matrices.shape[0]):\n",
    "                sub_matrices[i][j] = matrix[int(i * pad):int((i + 1) * pad), int(j * pad):int((j + 1) * pad)]\n",
    "    return sub_matrices\n",
    "\n",
    "def compute_single_block(A, B, i, j, size):\n",
    "    block = np.dot(\n",
    "        np.concatenate([A[i][k] for k in range(size)], axis=1),\n",
    "        np.concatenate([B[k][j] for k in range(size)], axis=0)\n",
    "    )\n",
    "    return block\n",
    "\n",
    "# Multiply two matrices:\n",
    "def multiply_matrices(matrix1, matrix2, amount_of_blocks):\n",
    "    # Split matrices into blocks:\n",
    "    A = split_matrix_in_blocks(matrix1, amount_of_blocks)\n",
    "    B = split_matrix_in_blocks(matrix2, amount_of_blocks)\n",
    "    result = np.empty((A.shape[0], B.shape[1]), dtype=np.ndarray)\n",
    "    size = A.shape[0]\n",
    "    for i in range(0, result.shape[0]):\n",
    "        for j in range(0, result.shape[1]):\n",
    "            result[i][j] = compute_single_block(A, B, i, j, size)\n",
    "    result = np.concatenate([np.concatenate([result[i][j] for j in range(size)], axis=1) for i in range(size)], axis=0)\n",
    "    return result"
   ]
  },
  {
   "cell_type": "markdown",
   "metadata": {
    "collapsed": false,
    "pycharm": {
     "name": "#%% md\n"
    }
   },
   "source": []
  },
  {
   "cell_type": "markdown",
   "metadata": {
    "collapsed": false,
    "pycharm": {
     "name": "#%% md\n"
    }
   },
   "source": [
    "## AWS - SOLUTION SETUP AND TASKS EXECUTION:"
   ]
  },
  {
   "cell_type": "code",
   "execution_count": null,
   "metadata": {
    "pycharm": {
     "name": "#%%\n"
    }
   },
   "outputs": [],
   "source": [
    "# start_all_instances()"
   ]
  },
  {
   "cell_type": "code",
   "execution_count": null,
   "metadata": {
    "pycharm": {
     "name": "#%%\n"
    }
   },
   "outputs": [],
   "source": [
    "view_all_instances(False)\n",
    "instances = [instance for instance in ec2.instances.all() if instance.state['Name'] != 'terminated']\n",
    "instances_names = [instance.tags[0]['Value'] for instance in instances]"
   ]
  },
  {
   "cell_type": "code",
   "execution_count": null,
   "metadata": {
    "pycharm": {
     "name": "#%%\n"
    }
   },
   "outputs": [],
   "source": [
    "# Update all instances credentials:\n",
    "for name in instances_names:\n",
    "    update_instance_credentials_using_boto3_session_credentials(name)"
   ]
  },
  {
   "cell_type": "code",
   "execution_count": null,
   "metadata": {
    "pycharm": {
     "name": "#%%\n"
    }
   },
   "outputs": [],
   "source": [
    "# Get all instances public DNS:\n",
    "for name in instances_names:\n",
    "    print(name+'\\'s public DNS: '+get_instance_public_dns_by_name(name))"
   ]
  },
  {
   "cell_type": "code",
   "execution_count": null,
   "metadata": {
    "pycharm": {
     "name": "#%%\n"
    }
   },
   "outputs": [],
   "source": [
    "# stop_all_instances()"
   ]
  }
 ],
 "metadata": {
  "kernelspec": {
   "display_name": "Python 3",
   "language": "python",
   "name": "python3"
  },
  "language_info": {
   "codemirror_mode": {
    "name": "ipython",
    "version": 2
   },
   "file_extension": ".py",
   "mimetype": "text/x-python",
   "name": "python",
   "nbconvert_exporter": "python",
   "pygments_lexer": "ipython2",
   "version": "2.7.6"
  }
 },
 "nbformat": 4,
 "nbformat_minor": 0
}
