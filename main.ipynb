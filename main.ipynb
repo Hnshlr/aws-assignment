{
 "cells": [
  {
   "cell_type": "markdown",
   "metadata": {
    "pycharm": {
     "name": "#%% md\n"
    }
   },
   "source": [
    "# Cloud Computing Assignment 2022-2023\n",
    "Implementation of an application processing large data sets in parallel on a distributed Cloud environment (ie. AWS)\n",
    "\n",
    "© Copyright 2022, All rights reserved to Hans Haller, CSTE-CIDA Student at Cranfield Uni. SATM, Cranfield, UK.\n",
    "\n",
    "https://www.github.com/Hnshlr"
   ]
  },
  {
   "cell_type": "markdown",
   "metadata": {
    "pycharm": {
     "name": "#%% md\n"
    }
   },
   "source": [
    "### Solution setup - Pre-requisites:\n",
    "1. Make sure the aws credentials taken from the Learner Lab are updated in the ~/.aws/credentials file (Test connection locally using aws sts get-caller-identity)\n",
    "2. Specify the \"labsuser.pem\" perm-key's (taken from the Learner Lab) path, needed by paramiko to connect to the EC2 instances and execute ssh commands.\n",
    "### Solution setup steps (Using the environment setup function):\n",
    "1. Make sure the AWS environment of the account whose credentials were imported is empty.\n",
    "2. If the AWS environment is not empty, execute the kill_all() function following the imports.\n",
    "3. Verify that the backend path in the second cell is correct.\n",
    "4. Execute the environment_setup() function.\n",
    "5. Verify that the AWS environment is fully setup using the view_all() function.\n",
    "6. Execute the solution_execution() function to run the solution, and view the results."
   ]
  },
  {
   "cell_type": "markdown",
   "metadata": {
    "pycharm": {
     "name": "#%% md\n"
    }
   },
   "source": [
    "### IMPORTS:\n",
    "\n",
    "The following controllers defines functions that use boto3 packaged functions to make AWS API calls. By importing the controllers, a Boto3 resource is automatically created for each AWS service that is needd for the solution (EC2, SQS, SSM, S3, etc) in order for these functions to work.\n",
    "\n",
    "The Boto3 resources uses the AWS credentials that are located in the .aws local folder of the user who executes this software.\n",
    "\n",
    "As a result, it is important that they are updated before running the following. Thus please make sure to restart the kernel and re-execute the imports if the credentials expired (ie. the Learner Lab session ended)."
   ]
  },
  {
   "cell_type": "code",
   "execution_count": null,
   "metadata": {
    "pycharm": {
     "name": "#%%\n"
    }
   },
   "outputs": [],
   "source": [
    "# MODULES=\n",
    "import pandas as pd\n",
    "import matplotlib.pyplot as plt\n",
    "\n",
    "# SERVICES=\n",
    "from backend.app_service import *       # My app only needs to import the app_service service, as it imports all the required controllers."
   ]
  },
  {
   "cell_type": "markdown",
   "metadata": {
    "pycharm": {
     "name": "#%% md\n"
    }
   },
   "source": []
  },
  {
   "cell_type": "markdown",
   "metadata": {
    "pycharm": {
     "name": "#%% md\n"
    }
   },
   "source": [
    "## AWS - SOLUTION SETUP AND TASKS EXECUTION:\n",
    "\n",
    "### ENVIRONMENT SETTINGS:"
   ]
  },
  {
   "cell_type": "code",
   "execution_count": null,
   "metadata": {
    "pycharm": {
     "name": "#%%\n"
    }
   },
   "outputs": [],
   "source": [
    "# SETTINGS=             [IMPORTANT: Update the following settings before running my solution]\n",
    "worker_amount = 8\n",
    "backend_path = os.path.join(os.getcwd(), 'backend')\n",
    "print('IMPORTANT: Please verify that the backend path is correct: ', backend_path)\n",
    "\n",
    "# NAMES=\n",
    "instances_names = np.concatenate((np.array(['master']), np.array(['worker' + str(i) for i in range(1, worker_amount+1)]))).tolist()\n",
    "queues_names = ['main-protected-jobs.fifo', 'main-protected-results.fifo']\n",
    "bucket_names = ['main-protected-bucket', 'main-protected-ssm-outputs']"
   ]
  },
  {
   "cell_type": "markdown",
   "metadata": {
    "pycharm": {
     "name": "#%% md\n"
    }
   },
   "source": []
  },
  {
   "cell_type": "markdown",
   "metadata": {
    "pycharm": {
     "name": "#%% md\n"
    }
   },
   "source": [
    "### ENVIRONMENT SETUP:\n",
    "Environment setup should be executed in an empty AWS account, in order to avoid any conflicts with existing resources.\n",
    "\n",
    "To do so, please make sure to delete all the possibly existing resources, by using the kill_all() function. (Use at your own risk)"
   ]
  },
  {
   "cell_type": "code",
   "execution_count": null,
   "metadata": {
    "pycharm": {
     "name": "#%%\n"
    }
   },
   "outputs": [],
   "source": [
    "# CLEANUP PRIOR TO SETTING UP THE ENVIRONMENT:\n",
    "kill_all()"
   ]
  },
  {
   "cell_type": "code",
   "execution_count": null,
   "metadata": {
    "pycharm": {
     "name": "#%%\n"
    }
   },
   "outputs": [],
   "source": [
    "# START TIMER:\n",
    "print('Beginning AWS environment setup. Starting timer...')\n",
    "envsetup_timer = time.time()\n",
    "\n",
    "# SETUP ENVIRONMENT:\n",
    "environment_setup(queues_names, bucket_names, instances_names, backend_path)\n",
    "\n",
    "# STOP TIMER:\n",
    "print('Environment setup took: ' + str(np.round(time.time() - envsetup_timer, 2)) + ' seconds.')"
   ]
  },
  {
   "cell_type": "markdown",
   "metadata": {
    "collapsed": false,
    "pycharm": {
     "name": "#%% md\n"
    }
   },
   "source": []
  },
  {
   "cell_type": "markdown",
   "metadata": {
    "collapsed": false,
    "pycharm": {
     "name": "#%% md\n"
    }
   },
   "source": [
    "### ENVIRONMENT VERIFICATION:"
   ]
  },
  {
   "cell_type": "code",
   "execution_count": null,
   "metadata": {
    "pycharm": {
     "name": "#%%\n"
    }
   },
   "outputs": [],
   "source": [
    "# VERIFY ENVIRONMENT STATUS:\n",
    "view_all()"
   ]
  },
  {
   "cell_type": "code",
   "execution_count": null,
   "metadata": {
    "pycharm": {
     "name": "#%%\n"
    }
   },
   "outputs": [],
   "source": [
    "# UPDATE BACKEND FOLDER ON S3, AND EC2 INSTANCES:\n",
    "update_backend(get_instance_ids_by_names(instances_names), bucket_names[0], backend_path)"
   ]
  },
  {
   "cell_type": "markdown",
   "metadata": {
    "pycharm": {
     "name": "#%% md\n"
    }
   },
   "source": []
  },
  {
   "cell_type": "markdown",
   "metadata": {
    "pycharm": {
     "name": "#%% md\n"
    }
   },
   "source": [
    "### SOLUTION EXECUTION:"
   ]
  },
  {
   "cell_type": "code",
   "execution_count": null,
   "metadata": {
    "pycharm": {
     "name": "#%%\n"
    }
   },
   "outputs": [],
   "source": [
    "# PREFERENCES=\n",
    "matrix_shape = 1000\n",
    "used_workers = 8\n",
    "online_monitor = True\n",
    "\n",
    "# EXECUTE SOLUTION (MONITORED=True):\n",
    "solution_execution(matrix_shape, used_workers, worker_amount, instances_names, queues_names, bucket_names, online_monitor)"
   ]
  },
  {
   "cell_type": "markdown",
   "metadata": {
    "pycharm": {
     "name": "#%% md\n"
    }
   },
   "source": [
    "### VERIFY:"
   ]
  },
  {
   "cell_type": "code",
   "execution_count": null,
   "metadata": {
    "pycharm": {
     "name": "#%%\n"
    }
   },
   "outputs": [],
   "source": [
    "# SETTINGS=\n",
    "op_ids = view_all_s3_buckets_filenames(bucket_names[0], 'backend/data/output/mx/')\n",
    "op_type = 'mx'\n",
    "\n",
    "# VERIFY MULTIPLES COMPUTATIONS OF A TYPE (RUN THE COMPARISON ONLINE USING AN INSTANCE):\n",
    "verify_multiple_jobs(bucket_names[0], instances_names[0], op_ids, op_type)"
   ]
  },
  {
   "cell_type": "markdown",
   "metadata": {
    "pycharm": {
     "name": "#%% md\n"
    }
   },
   "source": []
  },
  {
   "cell_type": "markdown",
   "metadata": {
    "collapsed": false,
    "pycharm": {
     "name": "#%% md\n"
    }
   },
   "source": [
    "## BULK TESTS - TIME COMPARISON:"
   ]
  },
  {
   "cell_type": "code",
   "execution_count": null,
   "metadata": {
    "pycharm": {
     "name": "#%%\n"
    }
   },
   "outputs": [],
   "source": [
    "# SETTINGS=\n",
    "matrix_shapes = [100, 250, 500, 1000, 1250, 1500, 1750, 2000]\n",
    "used_workers = 8\n",
    "op_type = 'mx'\n",
    "online_monitor = False\n",
    "\n",
    "# BULK TESTS:\n",
    "aws_times = []\n",
    "for matrix_shape in matrix_shapes:\n",
    "    print('Testing a computation (mx) for a matrix of shape: ' + str(matrix_shape) + '...')\n",
    "    aws_times.append(solution_execution(matrix_shape, used_workers, worker_amount, instances_names, queues_names, bucket_names, online_monitor))\n",
    "    print('\\n')"
   ]
  },
  {
   "cell_type": "code",
   "execution_count": null,
   "metadata": {
    "pycharm": {
     "name": "#%%\n"
    }
   },
   "outputs": [],
   "source": [
    "# BULK VERIFY COMPUTATIONS:\n",
    "op_ids = view_all_s3_buckets_filenames(bucket_names[0], 'backend/data/output/' + op_type + '/')\n",
    "verify_multiple_jobs(bucket_names[0], instances_names[0], op_ids, op_type)\n",
    "\n",
    "# COMPARISON WITH NUMPY COMPUTATION TIME:\n",
    "numpy_times = []\n",
    "for matrix_shape in matrix_shapes:\n",
    "    timer_start = time.time()\n",
    "    np.dot(np.random.randint(0, 10, size=(matrix_shape, matrix_shape)), np.random.randint(0, 10, size=(matrix_shape, matrix_shape)))\n",
    "    numpy_times.append(np.round(time.time() - timer_start, 2))\n",
    "\n",
    "# SAVE BOTH TIMES AND THE MATRIX SHAPES IN A CSV FILE:\n",
    "df = pd.DataFrame({'matrix_shape': matrix_shapes, 'numpy_times': numpy_times, 'times': aws_times})\n",
    "df.to_csv('data/times.csv', index=False)\n",
    "\n",
    "# PLOT RESULTS - TIME COMPARISON:\n",
    "plt.plot(matrix_shapes, aws_times, 'o-', color='orange', label='Distributed computation')\n",
    "plt.plot(matrix_shapes, numpy_times, 'o-', color='blue', label='Numpy computation')\n",
    "plt.xlabel('Matrix shape')\n",
    "plt.ylabel('Time (seconds)')\n",
    "plt.title('Time comparison between numpy and distributed computation')\n",
    "plt.legend()\n",
    "plt.show()\n",
    "\n",
    "# TABLE OF TIMES - USING THE CSV FILE:\n",
    "df = pd.read_csv('data/times.csv')\n",
    "df"
   ]
  },
  {
   "cell_type": "markdown",
   "metadata": {
    "collapsed": false,
    "pycharm": {
     "name": "#%% md\n"
    }
   },
   "source": []
  },
  {
   "cell_type": "markdown",
   "metadata": {
    "pycharm": {
     "name": "#%% md\n"
    }
   },
   "source": [
    "### CLEAN UP:"
   ]
  },
  {
   "cell_type": "code",
   "execution_count": null,
   "metadata": {
    "pycharm": {
     "name": "#%%\n"
    }
   },
   "outputs": [],
   "source": [
    "# CLEAN THE AWS ENVIRONMENT OF ALL SERVICES:\n",
    "kill_all()"
   ]
  }
 ],
 "metadata": {
  "kernelspec": {
   "display_name": "Python 3 (ipykernel)",
   "language": "python",
   "name": "python3"
  },
  "language_info": {
   "codemirror_mode": {
    "name": "ipython",
    "version": 3
   },
   "file_extension": ".py",
   "mimetype": "text/x-python",
   "name": "python",
   "nbconvert_exporter": "python",
   "pygments_lexer": "ipython3",
   "version": "3.10.8"
  }
 },
 "nbformat": 4,
 "nbformat_minor": 1
}
